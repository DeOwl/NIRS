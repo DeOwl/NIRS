{
 "cells": [
  {
   "cell_type": "markdown",
   "id": "40e58203",
   "metadata": {},
   "source": [
    "### Одноклассовый классификатор на основе трехслойного автоэнкодера"
   ]
  },
  {
   "cell_type": "code",
   "execution_count": 3,
   "id": "518802eb",
   "metadata": {},
   "outputs": [],
   "source": [
    "import matplotlib.pyplot as plt\n",
    "import numpy as np\n",
    "import pandas as pd\n",
    "np.bool = np.bool_\n",
    "np.int = np.int_\n",
    "np.object = np.object_\n",
    "import tensorflow as tf\n",
    "\n",
    "from sklearn.metrics import accuracy_score, precision_score, recall_score\n",
    "from sklearn.model_selection import train_test_split\n",
    "from tensorflow.keras import layers, losses\n",
    "from tensorflow.keras.datasets import fashion_mnist\n",
    "from tensorflow.keras.models import Model\n",
    "from tensorboard.plugins.hparams import api as hp"
   ]
  },
  {
   "cell_type": "markdown",
   "id": "6da6f4a5",
   "metadata": {},
   "source": [
    "#### Загрузка данных"
   ]
  },
  {
   "cell_type": "code",
   "execution_count": null,
   "id": "7c0b9de3",
   "metadata": {},
   "outputs": [],
   "source": [
    "normal_train_data = tf.convert_to_tensor(np.load('../data/normal_train_data.npy'))\n",
    "normal_test_data = tf.convert_to_tensor(np.load('../data/normal_test_data.npy'))\n",
    "anomalous_train_data = tf.convert_to_tensor(np.load('../data/anomalous_train_data.npy'))\n",
    "anomalous_test_data = tf.convert_to_tensor(np.load('../data/anomalous_test_data.npy'))\n",
    "train_data = np.load('../data/train_data.npy')\n",
    "test_data = tf.convert_to_tensor(np.load('../data/test_data.npy'))\n",
    "train_labels = np.load('../data/train_labels.npy')\n",
    "test_labels = tf.convert_to_tensor(np.load('../data/test_labels.npy'))\n",
    "from sklearn.utils import shuffle"
   ]
  },
  {
   "cell_type": "code",
   "execution_count": null,
   "id": "f13954c7",
   "metadata": {},
   "outputs": [],
   "source": [
    "\n",
    "from sklearn.decomposition import PCA\n",
    "\n",
    "t_d_1 = tf.convert_to_tensor(np.concatenate((normal_train_data[:500].numpy(),anomalous_train_data[:500].numpy())))\n",
    "y = tf.convert_to_tensor(np.concatenate((np.ones(500, dtype=int), np.zeros(500, dtype=int))))\n",
    "\n",
    "num_bits = 7\n",
    "\n",
    "pca = PCA(n_components=num_bits)  # Set number of components to 24\n",
    "train_data_reduced = tf.convert_to_tensor(pca.fit_transform(t_d_1, y))\n",
    "validation_data_reduced = tf.convert_to_tensor(pca.fit_transform(test_data, test_labels))"
   ]
  },
  {
   "cell_type": "code",
   "execution_count": 9,
   "id": "af0d2969",
   "metadata": {},
   "outputs": [
    {
     "name": "stdout",
     "output_type": "stream",
     "text": [
      "Epoch 1/30\n",
      "\u001b[1m32/32\u001b[0m \u001b[32m━━━━━━━━━━━━━━━━━━━━\u001b[0m\u001b[37m\u001b[0m \u001b[1m1s\u001b[0m 6ms/step - accuracy: 0.5058 - loss: 0.4702 - val_accuracy: 0.4200 - val_loss: 0.5558\n",
      "Epoch 2/30\n",
      "\u001b[1m32/32\u001b[0m \u001b[32m━━━━━━━━━━━━━━━━━━━━\u001b[0m\u001b[37m\u001b[0m \u001b[1m0s\u001b[0m 4ms/step - accuracy: 0.5167 - loss: 0.4318 - val_accuracy: 0.4220 - val_loss: 0.4853\n",
      "Epoch 3/30\n",
      "\u001b[1m32/32\u001b[0m \u001b[32m━━━━━━━━━━━━━━━━━━━━\u001b[0m\u001b[37m\u001b[0m \u001b[1m0s\u001b[0m 3ms/step - accuracy: 0.5226 - loss: 0.3769 - val_accuracy: 0.4380 - val_loss: 0.3650\n",
      "Epoch 4/30\n",
      "\u001b[1m32/32\u001b[0m \u001b[32m━━━━━━━━━━━━━━━━━━━━\u001b[0m\u001b[37m\u001b[0m \u001b[1m0s\u001b[0m 3ms/step - accuracy: 0.5267 - loss: 0.3015 - val_accuracy: 0.4810 - val_loss: 0.2812\n",
      "Epoch 5/30\n",
      "\u001b[1m32/32\u001b[0m \u001b[32m━━━━━━━━━━━━━━━━━━━━\u001b[0m\u001b[37m\u001b[0m \u001b[1m0s\u001b[0m 3ms/step - accuracy: 0.6149 - loss: 0.2316 - val_accuracy: 0.6000 - val_loss: 0.2310\n",
      "Epoch 6/30\n",
      "\u001b[1m32/32\u001b[0m \u001b[32m━━━━━━━━━━━━━━━━━━━━\u001b[0m\u001b[37m\u001b[0m \u001b[1m0s\u001b[0m 3ms/step - accuracy: 0.7242 - loss: 0.1878 - val_accuracy: 0.7090 - val_loss: 0.1973\n",
      "Epoch 7/30\n",
      "\u001b[1m32/32\u001b[0m \u001b[32m━━━━━━━━━━━━━━━━━━━━\u001b[0m\u001b[37m\u001b[0m \u001b[1m0s\u001b[0m 3ms/step - accuracy: 0.7695 - loss: 0.1757 - val_accuracy: 0.7850 - val_loss: 0.1729\n",
      "Epoch 8/30\n",
      "\u001b[1m32/32\u001b[0m \u001b[32m━━━━━━━━━━━━━━━━━━━━\u001b[0m\u001b[37m\u001b[0m \u001b[1m0s\u001b[0m 3ms/step - accuracy: 0.8299 - loss: 0.1510 - val_accuracy: 0.8220 - val_loss: 0.1550\n",
      "Epoch 9/30\n",
      "\u001b[1m32/32\u001b[0m \u001b[32m━━━━━━━━━━━━━━━━━━━━\u001b[0m\u001b[37m\u001b[0m \u001b[1m0s\u001b[0m 3ms/step - accuracy: 0.8693 - loss: 0.1321 - val_accuracy: 0.8480 - val_loss: 0.1398\n",
      "Epoch 10/30\n",
      "\u001b[1m32/32\u001b[0m \u001b[32m━━━━━━━━━━━━━━━━━━━━\u001b[0m\u001b[37m\u001b[0m \u001b[1m0s\u001b[0m 3ms/step - accuracy: 0.8839 - loss: 0.1238 - val_accuracy: 0.8730 - val_loss: 0.1277\n",
      "Epoch 11/30\n",
      "\u001b[1m32/32\u001b[0m \u001b[32m━━━━━━━━━━━━━━━━━━━━\u001b[0m\u001b[37m\u001b[0m \u001b[1m0s\u001b[0m 3ms/step - accuracy: 0.9034 - loss: 0.1111 - val_accuracy: 0.8880 - val_loss: 0.1165\n",
      "Epoch 12/30\n",
      "\u001b[1m32/32\u001b[0m \u001b[32m━━━━━━━━━━━━━━━━━━━━\u001b[0m\u001b[37m\u001b[0m \u001b[1m0s\u001b[0m 3ms/step - accuracy: 0.8953 - loss: 0.1088 - val_accuracy: 0.9010 - val_loss: 0.1076\n",
      "Epoch 13/30\n",
      "\u001b[1m32/32\u001b[0m \u001b[32m━━━━━━━━━━━━━━━━━━━━\u001b[0m\u001b[37m\u001b[0m \u001b[1m0s\u001b[0m 3ms/step - accuracy: 0.9189 - loss: 0.0922 - val_accuracy: 0.9140 - val_loss: 0.0989\n",
      "Epoch 14/30\n",
      "\u001b[1m32/32\u001b[0m \u001b[32m━━━━━━━━━━━━━━━━━━━━\u001b[0m\u001b[37m\u001b[0m \u001b[1m0s\u001b[0m 3ms/step - accuracy: 0.9313 - loss: 0.0843 - val_accuracy: 0.9240 - val_loss: 0.0914\n",
      "Epoch 15/30\n",
      "\u001b[1m32/32\u001b[0m \u001b[32m━━━━━━━━━━━━━━━━━━━━\u001b[0m\u001b[37m\u001b[0m \u001b[1m0s\u001b[0m 4ms/step - accuracy: 0.9392 - loss: 0.0788 - val_accuracy: 0.9300 - val_loss: 0.0846\n",
      "Epoch 16/30\n",
      "\u001b[1m32/32\u001b[0m \u001b[32m━━━━━━━━━━━━━━━━━━━━\u001b[0m\u001b[37m\u001b[0m \u001b[1m0s\u001b[0m 3ms/step - accuracy: 0.9521 - loss: 0.0697 - val_accuracy: 0.9340 - val_loss: 0.0787\n",
      "Epoch 17/30\n",
      "\u001b[1m32/32\u001b[0m \u001b[32m━━━━━━━━━━━━━━━━━━━━\u001b[0m\u001b[37m\u001b[0m \u001b[1m0s\u001b[0m 3ms/step - accuracy: 0.9431 - loss: 0.0694 - val_accuracy: 0.9460 - val_loss: 0.0720\n",
      "Epoch 18/30\n",
      "\u001b[1m32/32\u001b[0m \u001b[32m━━━━━━━━━━━━━━━━━━━━\u001b[0m\u001b[37m\u001b[0m \u001b[1m0s\u001b[0m 3ms/step - accuracy: 0.9605 - loss: 0.0605 - val_accuracy: 0.9510 - val_loss: 0.0670\n",
      "Epoch 19/30\n",
      "\u001b[1m32/32\u001b[0m \u001b[32m━━━━━━━━━━━━━━━━━━━━\u001b[0m\u001b[37m\u001b[0m \u001b[1m0s\u001b[0m 3ms/step - accuracy: 0.9657 - loss: 0.0590 - val_accuracy: 0.9560 - val_loss: 0.0622\n",
      "Epoch 20/30\n",
      "\u001b[1m32/32\u001b[0m \u001b[32m━━━━━━━━━━━━━━━━━━━━\u001b[0m\u001b[37m\u001b[0m \u001b[1m0s\u001b[0m 3ms/step - accuracy: 0.9805 - loss: 0.0478 - val_accuracy: 0.9580 - val_loss: 0.0577\n",
      "Epoch 21/30\n",
      "\u001b[1m32/32\u001b[0m \u001b[32m━━━━━━━━━━━━━━━━━━━━\u001b[0m\u001b[37m\u001b[0m \u001b[1m0s\u001b[0m 3ms/step - accuracy: 0.9750 - loss: 0.0493 - val_accuracy: 0.9600 - val_loss: 0.0541\n",
      "Epoch 22/30\n",
      "\u001b[1m32/32\u001b[0m \u001b[32m━━━━━━━━━━━━━━━━━━━━\u001b[0m\u001b[37m\u001b[0m \u001b[1m0s\u001b[0m 3ms/step - accuracy: 0.9859 - loss: 0.0400 - val_accuracy: 0.9650 - val_loss: 0.0512\n",
      "Epoch 23/30\n",
      "\u001b[1m32/32\u001b[0m \u001b[32m━━━━━━━━━━━━━━━━━━━━\u001b[0m\u001b[37m\u001b[0m \u001b[1m0s\u001b[0m 3ms/step - accuracy: 0.9809 - loss: 0.0376 - val_accuracy: 0.9670 - val_loss: 0.0478\n",
      "Epoch 24/30\n",
      "\u001b[1m32/32\u001b[0m \u001b[32m━━━━━━━━━━━━━━━━━━━━\u001b[0m\u001b[37m\u001b[0m \u001b[1m0s\u001b[0m 3ms/step - accuracy: 0.9764 - loss: 0.0388 - val_accuracy: 0.9710 - val_loss: 0.0451\n",
      "Epoch 25/30\n",
      "\u001b[1m32/32\u001b[0m \u001b[32m━━━━━━━━━━━━━━━━━━━━\u001b[0m\u001b[37m\u001b[0m \u001b[1m0s\u001b[0m 3ms/step - accuracy: 0.9803 - loss: 0.0382 - val_accuracy: 0.9720 - val_loss: 0.0428\n",
      "Epoch 26/30\n",
      "\u001b[1m32/32\u001b[0m \u001b[32m━━━━━━━━━━━━━━━━━━━━\u001b[0m\u001b[37m\u001b[0m \u001b[1m0s\u001b[0m 3ms/step - accuracy: 0.9832 - loss: 0.0328 - val_accuracy: 0.9730 - val_loss: 0.0406\n",
      "Epoch 27/30\n",
      "\u001b[1m32/32\u001b[0m \u001b[32m━━━━━━━━━━━━━━━━━━━━\u001b[0m\u001b[37m\u001b[0m \u001b[1m0s\u001b[0m 3ms/step - accuracy: 0.9811 - loss: 0.0315 - val_accuracy: 0.9770 - val_loss: 0.0385\n",
      "Epoch 28/30\n",
      "\u001b[1m32/32\u001b[0m \u001b[32m━━━━━━━━━━━━━━━━━━━━\u001b[0m\u001b[37m\u001b[0m \u001b[1m0s\u001b[0m 3ms/step - accuracy: 0.9834 - loss: 0.0283 - val_accuracy: 0.9770 - val_loss: 0.0372\n",
      "Epoch 29/30\n",
      "\u001b[1m32/32\u001b[0m \u001b[32m━━━━━━━━━━━━━━━━━━━━\u001b[0m\u001b[37m\u001b[0m \u001b[1m0s\u001b[0m 3ms/step - accuracy: 0.9831 - loss: 0.0260 - val_accuracy: 0.9770 - val_loss: 0.0362\n",
      "Epoch 30/30\n",
      "\u001b[1m32/32\u001b[0m \u001b[32m━━━━━━━━━━━━━━━━━━━━\u001b[0m\u001b[37m\u001b[0m \u001b[1m0s\u001b[0m 3ms/step - accuracy: 0.9806 - loss: 0.0244 - val_accuracy: 0.9770 - val_loss: 0.0353\n"
     ]
    }
   ],
   "source": [
    "\n",
    "\n",
    "\n",
    "class BinaryClassfier(Model):\n",
    "  def __init__(self, x):\n",
    "    super(BinaryClassfier, self).__init__()\n",
    "\n",
    "    self.encoder = tf.keras.Sequential([layers.Dense(x // 2, activation=\"relu\"),\n",
    "      layers.Dense(1, activation=\"relu\")])\n",
    "\n",
    "  def call(self, x):\n",
    "    encoded = self.encoder(x)\n",
    "    return encoded\n",
    "\n",
    "  \n",
    "def model_builder(num_bits):\n",
    "  \n",
    "  model = BinaryClassfier(num_bits)\n",
    "  model.compile(optimizer='adam', loss='mean_squared_error', metrics= [\"accuracy\"])\n",
    "  return model\n",
    "\n",
    "autoencoder = model_builder(num_bits)\n",
    "history = autoencoder.fit(train_data_reduced, y, epochs=30,\n",
    "          validation_data=(validation_data_reduced, test_labels))"
   ]
  }
 ],
 "metadata": {
  "kernelspec": {
   "display_name": "qiskit",
   "language": "python",
   "name": "python3"
  },
  "language_info": {
   "codemirror_mode": {
    "name": "ipython",
    "version": 3
   },
   "file_extension": ".py",
   "mimetype": "text/x-python",
   "name": "python",
   "nbconvert_exporter": "python",
   "pygments_lexer": "ipython3",
   "version": "3.11.11"
  }
 },
 "nbformat": 4,
 "nbformat_minor": 5
}
