{
 "cells": [
  {
   "cell_type": "code",
   "execution_count": 1,
   "id": "f0f2c136",
   "metadata": {},
   "outputs": [],
   "source": [
    "from sklearn import model_selection, datasets, svm\n",
    "from qiskit import QuantumCircuit, QuantumRegister, ClassicalRegister\n",
    "import qiskit\n",
    "import numpy as np\n",
    "import copy\n",
    "import matplotlib.pyplot as plt\n",
    "from qiskit_aer import AerSimulator"
   ]
  },
  {
   "cell_type": "code",
   "execution_count": 23,
   "id": "685c396b",
   "metadata": {},
   "outputs": [],
   "source": [
    "N = 5\n",
    "\n",
    "def feature_map(X) :\n",
    "    q = QuantumRegister(N)\n",
    "    c = ClassicalRegister(1)\n",
    "    qc = QuantumCircuit(q,c)\n",
    "    \n",
    "    for i in range(0, len(X), 2):\n",
    "        qc.rx(X[i], i // 2);\n",
    "        qc.ry(X[i + 1], i // 2);\n",
    "        \n",
    "    return qc, c"
   ]
  },
  {
   "cell_type": "code",
   "execution_count": 24,
   "id": "3e45a4ab",
   "metadata": {},
   "outputs": [],
   "source": [
    "def variational_circuit(qc, theta):\n",
    "    \n",
    "    for i in range(N-1):\n",
    "        qc.cx(i, i+1)\n",
    "    qc.cx(N-1, 0)\n",
    "    for i in range(N):\n",
    "        qc.ry(theta[i], i)\n",
    "    return qc"
   ]
  },
  {
   "cell_type": "code",
   "execution_count": 25,
   "id": "0425801c",
   "metadata": {},
   "outputs": [],
   "source": [
    "def quantum_nn(X, theta, simulator=True):\n",
    "    \n",
    "    qc, c = feature_map(X)\n",
    "    qc = variational_circuit(qc, theta)\n",
    "    qc.measure(0,c)\n",
    "    \n",
    "    shots = 1E4\n",
    "    backend = AerSimulator()\n",
    "    job = backend.run(qc, shots=shots)\n",
    "    result = job.result()\n",
    "    counts = result.get_counts(qc)\n",
    "    \n",
    "    return(counts['1']/shots)"
   ]
  },
  {
   "cell_type": "code",
   "execution_count": 26,
   "id": "8d364068",
   "metadata": {},
   "outputs": [],
   "source": [
    "def loss (prediction, target):\n",
    "    return (prediction - target)**2"
   ]
  },
  {
   "cell_type": "code",
   "execution_count": 27,
   "id": "e38ffe60",
   "metadata": {},
   "outputs": [],
   "source": [
    "def gradient(X, Y, theta):\n",
    "    \n",
    "    delta = 0.01\n",
    "    grad = []\n",
    "    for i in range(len(theta)):\n",
    "        \n",
    "        dtheta = copy.copy(theta)\n",
    "        dtheta[i] += delta\n",
    "        \n",
    "        pred1 = quantum_nn(X, dtheta)\n",
    "        pred2 = quantum_nn(X, theta)\n",
    "        \n",
    "        grad.append((loss(pred1, Y) - loss(pred2, Y)) / delta)\n",
    "        \n",
    "    return np.array(grad)"
   ]
  },
  {
   "cell_type": "code",
   "execution_count": 28,
   "id": "79bfe141",
   "metadata": {},
   "outputs": [],
   "source": [
    "def accuracy(X, Y, theta):\n",
    "    \n",
    "    counter = 0\n",
    "    for X_i, Y_i in zip(X, Y):\n",
    "        \n",
    "        prediction = quantum_nn(X_i, theta)\n",
    "        \n",
    "        if prediction < 0.5 and Y_i == 0:\n",
    "            counter += 1\n",
    "        elif prediction >= 0.5 and Y_i == 1:\n",
    "            counter += 1\n",
    "            \n",
    "    return counter/len(Y)"
   ]
  },
  {
   "cell_type": "code",
   "execution_count": 30,
   "id": "4512bb55",
   "metadata": {},
   "outputs": [],
   "source": [
    "normal_train_data = np.load('normal_train_data.npy')\n",
    "normal_test_data = np.load('normal_test_data.npy')\n",
    "anomalous_train_data = np.load('anomalous_train_data.npy')\n",
    "anomalous_test_data = np.load('anomalous_test_data.npy')\n",
    "train_data = np.load('train_data.npy')\n",
    "test_data = np.load('test_data.npy')\n",
    "train_labels = np.load('train_labels.npy')\n",
    "test_labels = np.load('test_labels.npy')"
   ]
  },
  {
   "cell_type": "code",
   "execution_count": 34,
   "id": "e01de471",
   "metadata": {},
   "outputs": [
    {
     "name": "stdout",
     "output_type": "stream",
     "text": [
      "Epoch \t Loss \t Training Accuracy\n"
     ]
    },
    {
     "ename": "KeyboardInterrupt",
     "evalue": "",
     "output_type": "error",
     "traceback": [
      "\u001b[31m---------------------------------------------------------------------------\u001b[39m",
      "\u001b[31mKeyboardInterrupt\u001b[39m                         Traceback (most recent call last)",
      "\u001b[36mCell\u001b[39m\u001b[36m \u001b[39m\u001b[32mIn[34]\u001b[39m\u001b[32m, line 22\u001b[39m\n\u001b[32m     20\u001b[39m     prediction = quantum_nn(X_i, theta)\n\u001b[32m     21\u001b[39m     loss_tmp.append(loss(prediction, Y_i))\n\u001b[32m---> \u001b[39m\u001b[32m22\u001b[39m     theta = theta - eta * \u001b[43mgradient\u001b[49m\u001b[43m(\u001b[49m\u001b[43mX_i\u001b[49m\u001b[43m,\u001b[49m\u001b[43m \u001b[49m\u001b[43mY_i\u001b[49m\u001b[43m,\u001b[49m\u001b[43m \u001b[49m\u001b[43mtheta\u001b[49m\u001b[43m)\u001b[49m\n\u001b[32m     24\u001b[39m loss_list.append(np.mean(loss_tmp))\n\u001b[32m     25\u001b[39m acc = accuracy(train_data_reduced, y, theta)\n",
      "\u001b[36mCell\u001b[39m\u001b[36m \u001b[39m\u001b[32mIn[27]\u001b[39m\u001b[32m, line 10\u001b[39m, in \u001b[36mgradient\u001b[39m\u001b[34m(X, Y, theta)\u001b[39m\n\u001b[32m      7\u001b[39m dtheta = copy.copy(theta)\n\u001b[32m      8\u001b[39m dtheta[i] += delta\n\u001b[32m---> \u001b[39m\u001b[32m10\u001b[39m pred1 = \u001b[43mquantum_nn\u001b[49m\u001b[43m(\u001b[49m\u001b[43mX\u001b[49m\u001b[43m,\u001b[49m\u001b[43m \u001b[49m\u001b[43mdtheta\u001b[49m\u001b[43m)\u001b[49m\n\u001b[32m     11\u001b[39m pred2 = quantum_nn(X, theta)\n\u001b[32m     13\u001b[39m grad.append((loss(pred1, Y) - loss(pred2, Y)) / delta)\n",
      "\u001b[36mCell\u001b[39m\u001b[36m \u001b[39m\u001b[32mIn[25]\u001b[39m\u001b[32m, line 10\u001b[39m, in \u001b[36mquantum_nn\u001b[39m\u001b[34m(X, theta, simulator)\u001b[39m\n\u001b[32m      8\u001b[39m backend = AerSimulator()\n\u001b[32m      9\u001b[39m job = backend.run(qc, shots=shots)\n\u001b[32m---> \u001b[39m\u001b[32m10\u001b[39m result = \u001b[43mjob\u001b[49m\u001b[43m.\u001b[49m\u001b[43mresult\u001b[49m\u001b[43m(\u001b[49m\u001b[43m)\u001b[49m\n\u001b[32m     11\u001b[39m counts = result.get_counts(qc)\n\u001b[32m     13\u001b[39m \u001b[38;5;28;01mreturn\u001b[39;00m(counts[\u001b[33m'\u001b[39m\u001b[33m1\u001b[39m\u001b[33m'\u001b[39m]/shots)\n",
      "\u001b[36mFile \u001b[39m\u001b[32mc:\\Users\\DeOwl\\anaconda3\\envs\\qiskit\\Lib\\site-packages\\qiskit_aer\\jobs\\utils.py:38\u001b[39m, in \u001b[36mrequires_submit.<locals>._wrapper\u001b[39m\u001b[34m(self, *args, **kwargs)\u001b[39m\n\u001b[32m     36\u001b[39m \u001b[38;5;28;01mif\u001b[39;00m \u001b[38;5;28mself\u001b[39m._future \u001b[38;5;129;01mis\u001b[39;00m \u001b[38;5;28;01mNone\u001b[39;00m:\n\u001b[32m     37\u001b[39m     \u001b[38;5;28;01mraise\u001b[39;00m JobError(\u001b[33m\"\u001b[39m\u001b[33mJob not submitted yet!. You have to .submit() first!\u001b[39m\u001b[33m\"\u001b[39m)\n\u001b[32m---> \u001b[39m\u001b[32m38\u001b[39m \u001b[38;5;28;01mreturn\u001b[39;00m \u001b[43mfunc\u001b[49m\u001b[43m(\u001b[49m\u001b[38;5;28;43mself\u001b[39;49m\u001b[43m,\u001b[49m\u001b[43m \u001b[49m\u001b[43m*\u001b[49m\u001b[43margs\u001b[49m\u001b[43m,\u001b[49m\u001b[43m \u001b[49m\u001b[43m*\u001b[49m\u001b[43m*\u001b[49m\u001b[43mkwargs\u001b[49m\u001b[43m)\u001b[49m\n",
      "\u001b[36mFile \u001b[39m\u001b[32mc:\\Users\\DeOwl\\anaconda3\\envs\\qiskit\\Lib\\site-packages\\qiskit_aer\\jobs\\aerjob.py:96\u001b[39m, in \u001b[36mAerJob.result\u001b[39m\u001b[34m(self, timeout)\u001b[39m\n\u001b[32m     78\u001b[39m \u001b[38;5;129m@requires_submit\u001b[39m\n\u001b[32m     79\u001b[39m \u001b[38;5;28;01mdef\u001b[39;00m\u001b[38;5;250m \u001b[39m\u001b[34mresult\u001b[39m(\u001b[38;5;28mself\u001b[39m, timeout=\u001b[38;5;28;01mNone\u001b[39;00m):\n\u001b[32m     80\u001b[39m     \u001b[38;5;66;03m# pylint: disable=arguments-differ\u001b[39;00m\n\u001b[32m     81\u001b[39m \u001b[38;5;250m    \u001b[39m\u001b[33;03m\"\"\"Get job result. The behavior is the same as the underlying\u001b[39;00m\n\u001b[32m     82\u001b[39m \u001b[33;03m    concurrent Future objects,\u001b[39;00m\n\u001b[32m     83\u001b[39m \n\u001b[32m   (...)\u001b[39m\u001b[32m     94\u001b[39m \u001b[33;03m        concurrent.futures.CancelledError: if job cancelled before completed.\u001b[39;00m\n\u001b[32m     95\u001b[39m \u001b[33;03m    \"\"\"\u001b[39;00m\n\u001b[32m---> \u001b[39m\u001b[32m96\u001b[39m     \u001b[38;5;28;01mreturn\u001b[39;00m \u001b[38;5;28;43mself\u001b[39;49m\u001b[43m.\u001b[49m\u001b[43m_future\u001b[49m\u001b[43m.\u001b[49m\u001b[43mresult\u001b[49m\u001b[43m(\u001b[49m\u001b[43mtimeout\u001b[49m\u001b[43m=\u001b[49m\u001b[43mtimeout\u001b[49m\u001b[43m)\u001b[49m\n",
      "\u001b[36mFile \u001b[39m\u001b[32mc:\\Users\\DeOwl\\anaconda3\\envs\\qiskit\\Lib\\concurrent\\futures\\_base.py:451\u001b[39m, in \u001b[36mFuture.result\u001b[39m\u001b[34m(self, timeout)\u001b[39m\n\u001b[32m    448\u001b[39m \u001b[38;5;28;01melif\u001b[39;00m \u001b[38;5;28mself\u001b[39m._state == FINISHED:\n\u001b[32m    449\u001b[39m     \u001b[38;5;28;01mreturn\u001b[39;00m \u001b[38;5;28mself\u001b[39m.__get_result()\n\u001b[32m--> \u001b[39m\u001b[32m451\u001b[39m \u001b[38;5;28;43mself\u001b[39;49m\u001b[43m.\u001b[49m\u001b[43m_condition\u001b[49m\u001b[43m.\u001b[49m\u001b[43mwait\u001b[49m\u001b[43m(\u001b[49m\u001b[43mtimeout\u001b[49m\u001b[43m)\u001b[49m\n\u001b[32m    453\u001b[39m \u001b[38;5;28;01mif\u001b[39;00m \u001b[38;5;28mself\u001b[39m._state \u001b[38;5;129;01min\u001b[39;00m [CANCELLED, CANCELLED_AND_NOTIFIED]:\n\u001b[32m    454\u001b[39m     \u001b[38;5;28;01mraise\u001b[39;00m CancelledError()\n",
      "\u001b[36mFile \u001b[39m\u001b[32mc:\\Users\\DeOwl\\anaconda3\\envs\\qiskit\\Lib\\threading.py:327\u001b[39m, in \u001b[36mCondition.wait\u001b[39m\u001b[34m(self, timeout)\u001b[39m\n\u001b[32m    325\u001b[39m \u001b[38;5;28;01mtry\u001b[39;00m:    \u001b[38;5;66;03m# restore state no matter what (e.g., KeyboardInterrupt)\u001b[39;00m\n\u001b[32m    326\u001b[39m     \u001b[38;5;28;01mif\u001b[39;00m timeout \u001b[38;5;129;01mis\u001b[39;00m \u001b[38;5;28;01mNone\u001b[39;00m:\n\u001b[32m--> \u001b[39m\u001b[32m327\u001b[39m         \u001b[43mwaiter\u001b[49m\u001b[43m.\u001b[49m\u001b[43macquire\u001b[49m\u001b[43m(\u001b[49m\u001b[43m)\u001b[49m\n\u001b[32m    328\u001b[39m         gotit = \u001b[38;5;28;01mTrue\u001b[39;00m\n\u001b[32m    329\u001b[39m     \u001b[38;5;28;01melse\u001b[39;00m:\n",
      "\u001b[31mKeyboardInterrupt\u001b[39m: "
     ]
    }
   ],
   "source": [
    "eta = 0.05\n",
    "loss_list = []\n",
    "theta = np.ones(N)\n",
    "\n",
    "t_d_1 = np.concatenate((normal_train_data[:500],anomalous_train_data[:500]))\n",
    "y = np.concatenate((np.ones(500, dtype=int), np.zeros(500, dtype=int)))\n",
    "\n",
    "from sklearn.decomposition import PCA\n",
    "pca = PCA(n_components=10)  # Set number of components to 24\n",
    "train_data_reduced = pca.fit_transform(t_d_1, y)\n",
    "validation_data_reduced = pca.fit_transform(test_data, test_labels)\n",
    "\n",
    "print('Epoch \\t Loss \\t Training Accuracy')\n",
    "\n",
    "for i in range(20):\n",
    "    \n",
    "    loss_tmp = []\n",
    "    for X_i, Y_i in zip(train_data_reduced, y):\n",
    "\n",
    "        prediction = quantum_nn(X_i, theta)\n",
    "        loss_tmp.append(loss(prediction, Y_i))\n",
    "        theta = theta - eta * gradient(X_i, Y_i, theta)\n",
    "        \n",
    "    loss_list.append(np.mean(loss_tmp))\n",
    "    acc = accuracy(train_data_reduced, y, theta)\n",
    "    \n",
    "    print(f'{i} \\t {loss_list[-1]:.3f} \\t {acc:.3f}')"
   ]
  }
 ],
 "metadata": {
  "kernelspec": {
   "display_name": "qiskit",
   "language": "python",
   "name": "python3"
  },
  "language_info": {
   "codemirror_mode": {
    "name": "ipython",
    "version": 3
   },
   "file_extension": ".py",
   "mimetype": "text/x-python",
   "name": "python",
   "nbconvert_exporter": "python",
   "pygments_lexer": "ipython3",
   "version": "3.11.11"
  }
 },
 "nbformat": 4,
 "nbformat_minor": 5
}
