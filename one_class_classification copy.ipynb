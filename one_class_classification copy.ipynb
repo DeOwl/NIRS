{
 "cells": [
  {
   "cell_type": "markdown",
   "id": "40e58203",
   "metadata": {},
   "source": [
    "### Одноклассовый классификатор на основе трехслойного автоэнкодера"
   ]
  },
  {
   "cell_type": "code",
   "execution_count": 1,
   "id": "518802eb",
   "metadata": {},
   "outputs": [],
   "source": [
    "import matplotlib.pyplot as plt\n",
    "import numpy as np\n",
    "import pandas as pd\n",
    "np.bool = np.bool_\n",
    "np.int = np.int_\n",
    "np.object = np.object_\n",
    "import tensorflow as tf\n",
    "\n",
    "from sklearn.metrics import accuracy_score, precision_score, recall_score\n",
    "from sklearn.model_selection import train_test_split\n",
    "from tensorflow.keras import layers, losses\n",
    "from tensorflow.keras.datasets import fashion_mnist\n",
    "from tensorflow.keras.models import Model\n",
    "from tensorboard.plugins.hparams import api as hp\n",
    "import keras_tuner as kt"
   ]
  },
  {
   "cell_type": "markdown",
   "id": "6da6f4a5",
   "metadata": {},
   "source": [
    "#### Загрузка данных"
   ]
  },
  {
   "cell_type": "code",
   "execution_count": null,
   "id": "7c0b9de3",
   "metadata": {},
   "outputs": [],
   "source": [
    "normal_train_data = tf.convert_to_tensor(np.load('normal_train_data.npy'))\n",
    "normal_test_data = tf.convert_to_tensor(np.load('normal_test_data.npy'))\n",
    "anomalous_train_data = tf.convert_to_tensor(np.load('anomalous_train_data.npy'))\n",
    "anomalous_test_data = tf.convert_to_tensor(np.load('anomalous_test_data.npy'))\n",
    "train_data = np.load('train_data.npy')\n",
    "test_data = tf.convert_to_tensor(np.load('test_data.npy'))\n",
    "train_labels = np.load('train_labels.npy')\n",
    "test_labels = tf.convert_to_tensor(np.load('test_labels.npy'))\n",
    "from sklearn.utils import shuffle"
   ]
  },
  {
   "cell_type": "code",
   "execution_count": 74,
   "id": "f13954c7",
   "metadata": {},
   "outputs": [],
   "source": [
    "\n",
    "from sklearn.decomposition import PCA\n",
    "\n",
    "t_d_1 = tf.convert_to_tensor(np.concatenate((normal_train_data[:500].numpy(),anomalous_train_data[:500].numpy())))\n",
    "y = tf.convert_to_tensor(np.concatenate((np.ones(500, dtype=int), np.zeros(500, dtype=int))))\n",
    "\n",
    "pca = PCA(n_components=10)  # Set number of components to 24\n",
    "train_data_reduced = tf.convert_to_tensor(pca.fit_transform(t_d_1, y))\n",
    "validation_data_reduced = tf.convert_to_tensor(pca.fit_transform(test_data, test_labels))\n",
    "\n",
    "np.save('train_data_reduced.npy', train_data_reduced)\n",
    "np.save('validation_data_reduced.npy', validation_data_reduced)"
   ]
  },
  {
   "cell_type": "code",
   "execution_count": 75,
   "id": "af0d2969",
   "metadata": {},
   "outputs": [
    {
     "name": "stdout",
     "output_type": "stream",
     "text": [
      "Epoch 1/30\n",
      "32/32 [==============================] - 0s 8ms/step - loss: 0.4026 - accuracy: 0.4950 - val_loss: 0.4707 - val_accuracy: 0.4070\n",
      "Epoch 2/30\n",
      "32/32 [==============================] - 0s 6ms/step - loss: 0.3701 - accuracy: 0.4940 - val_loss: 0.4352 - val_accuracy: 0.4060\n",
      "Epoch 3/30\n",
      "32/32 [==============================] - 0s 5ms/step - loss: 0.3378 - accuracy: 0.4930 - val_loss: 0.3985 - val_accuracy: 0.4110\n",
      "Epoch 4/30\n",
      "32/32 [==============================] - 0s 5ms/step - loss: 0.3054 - accuracy: 0.4930 - val_loss: 0.3615 - val_accuracy: 0.4150\n",
      "Epoch 5/30\n",
      "32/32 [==============================] - 0s 5ms/step - loss: 0.2742 - accuracy: 0.4960 - val_loss: 0.3269 - val_accuracy: 0.4220\n",
      "Epoch 6/30\n",
      "32/32 [==============================] - 0s 5ms/step - loss: 0.2460 - accuracy: 0.5010 - val_loss: 0.2962 - val_accuracy: 0.4300\n",
      "Epoch 7/30\n",
      "32/32 [==============================] - 0s 5ms/step - loss: 0.2207 - accuracy: 0.5200 - val_loss: 0.2673 - val_accuracy: 0.4480\n",
      "Epoch 8/30\n",
      "32/32 [==============================] - 0s 5ms/step - loss: 0.1981 - accuracy: 0.5560 - val_loss: 0.2415 - val_accuracy: 0.4820\n",
      "Epoch 9/30\n",
      "32/32 [==============================] - 0s 5ms/step - loss: 0.1778 - accuracy: 0.6410 - val_loss: 0.2183 - val_accuracy: 0.5280\n",
      "Epoch 10/30\n",
      "32/32 [==============================] - 0s 5ms/step - loss: 0.1601 - accuracy: 0.7410 - val_loss: 0.1976 - val_accuracy: 0.6020\n",
      "Epoch 11/30\n",
      "32/32 [==============================] - 0s 5ms/step - loss: 0.1444 - accuracy: 0.8260 - val_loss: 0.1795 - val_accuracy: 0.6830\n",
      "Epoch 12/30\n",
      "32/32 [==============================] - 0s 4ms/step - loss: 0.1305 - accuracy: 0.8490 - val_loss: 0.1628 - val_accuracy: 0.7480\n",
      "Epoch 13/30\n",
      "32/32 [==============================] - 0s 5ms/step - loss: 0.1184 - accuracy: 0.8770 - val_loss: 0.1481 - val_accuracy: 0.7890\n",
      "Epoch 14/30\n",
      "32/32 [==============================] - 0s 5ms/step - loss: 0.1077 - accuracy: 0.8910 - val_loss: 0.1353 - val_accuracy: 0.8290\n",
      "Epoch 15/30\n",
      "32/32 [==============================] - 0s 5ms/step - loss: 0.0985 - accuracy: 0.9020 - val_loss: 0.1239 - val_accuracy: 0.8570\n",
      "Epoch 16/30\n",
      "32/32 [==============================] - 0s 5ms/step - loss: 0.0905 - accuracy: 0.9190 - val_loss: 0.1141 - val_accuracy: 0.8810\n",
      "Epoch 17/30\n",
      "32/32 [==============================] - 0s 5ms/step - loss: 0.0836 - accuracy: 0.9340 - val_loss: 0.1050 - val_accuracy: 0.9030\n",
      "Epoch 18/30\n",
      "32/32 [==============================] - 0s 5ms/step - loss: 0.0773 - accuracy: 0.9440 - val_loss: 0.0973 - val_accuracy: 0.9170\n",
      "Epoch 19/30\n",
      "32/32 [==============================] - 0s 5ms/step - loss: 0.0719 - accuracy: 0.9580 - val_loss: 0.0901 - val_accuracy: 0.9260\n",
      "Epoch 20/30\n",
      "32/32 [==============================] - 0s 5ms/step - loss: 0.0672 - accuracy: 0.9660 - val_loss: 0.0839 - val_accuracy: 0.9380\n",
      "Epoch 21/30\n",
      "32/32 [==============================] - 0s 4ms/step - loss: 0.0631 - accuracy: 0.9670 - val_loss: 0.0783 - val_accuracy: 0.9480\n",
      "Epoch 22/30\n",
      "32/32 [==============================] - 0s 5ms/step - loss: 0.0594 - accuracy: 0.9690 - val_loss: 0.0737 - val_accuracy: 0.9510\n",
      "Epoch 23/30\n",
      "32/32 [==============================] - 0s 5ms/step - loss: 0.0562 - accuracy: 0.9700 - val_loss: 0.0693 - val_accuracy: 0.9550\n",
      "Epoch 24/30\n",
      "32/32 [==============================] - 0s 5ms/step - loss: 0.0533 - accuracy: 0.9700 - val_loss: 0.0655 - val_accuracy: 0.9550\n",
      "Epoch 25/30\n",
      "32/32 [==============================] - 0s 4ms/step - loss: 0.0508 - accuracy: 0.9710 - val_loss: 0.0622 - val_accuracy: 0.9590\n",
      "Epoch 26/30\n",
      "32/32 [==============================] - 0s 5ms/step - loss: 0.0486 - accuracy: 0.9710 - val_loss: 0.0591 - val_accuracy: 0.9610\n",
      "Epoch 27/30\n",
      "32/32 [==============================] - 0s 5ms/step - loss: 0.0466 - accuracy: 0.9710 - val_loss: 0.0563 - val_accuracy: 0.9640\n",
      "Epoch 28/30\n",
      "32/32 [==============================] - 0s 5ms/step - loss: 0.0448 - accuracy: 0.9710 - val_loss: 0.0542 - val_accuracy: 0.9640\n",
      "Epoch 29/30\n",
      "32/32 [==============================] - 0s 4ms/step - loss: 0.0432 - accuracy: 0.9710 - val_loss: 0.0520 - val_accuracy: 0.9650\n",
      "Epoch 30/30\n",
      "32/32 [==============================] - 0s 5ms/step - loss: 0.0417 - accuracy: 0.9720 - val_loss: 0.0500 - val_accuracy: 0.9690\n"
     ]
    }
   ],
   "source": [
    "\n",
    "\n",
    "\n",
    "class BinaryClassfier(Model):\n",
    "  def __init__(self):\n",
    "    super(BinaryClassfier, self).__init__()\n",
    "\n",
    "    self.encoder = tf.keras.Sequential([\n",
    "      layers.Dense(1, activation=\"relu\")])\n",
    "\n",
    "  def call(self, x):\n",
    "    encoded = self.encoder(x)\n",
    "    return encoded\n",
    "\n",
    "  \n",
    "def model_builder():\n",
    "  \n",
    "  model = BinaryClassfier()\n",
    "  model.compile(optimizer='adam', loss='mean_squared_error', metrics= [\"accuracy\"])\n",
    "  return model\n",
    "\n",
    "autoencoder = model_builder()\n",
    "history = autoencoder.fit(train_data_reduced, y, epochs=30,\n",
    "          validation_data=(validation_data_reduced, test_labels))"
   ]
  },
  {
   "cell_type": "code",
   "execution_count": null,
   "id": "274edbca",
   "metadata": {},
   "outputs": [
    {
     "name": "stdout",
     "output_type": "stream",
     "text": [
      "Overall Accuracy = 0.97\n",
      "\n",
      "Classification Report:\n",
      "              precision    recall  f1-score   support\n",
      "\n",
      "       False       0.97      0.96      0.96       408\n",
      "        True       0.97      0.98      0.98       592\n",
      "\n",
      "    accuracy                           0.97      1000\n",
      "   macro avg       0.97      0.97      0.97      1000\n",
      "weighted avg       0.97      0.97      0.97      1000\n",
      "\n"
     ]
    },
    {
     "data": {
      "text/plain": [
       "<sklearn.metrics._plot.confusion_matrix.ConfusionMatrixDisplay at 0x21e136ccfa0>"
      ]
     },
     "execution_count": 33,
     "metadata": {},
     "output_type": "execute_result"
    },
    {
     "data": {
      "image/png": "[encoded data removed]",
      "text/plain": [
       "<Figure size 640x480 with 2 Axes>"
      ]
     },
     "metadata": {},
     "output_type": "display_data"
    }
   ],
   "source": [
    "from sklearn.metrics import accuracy_score, classification_report, confusion_matrix, ConfusionMatrixDisplay\n",
    "def predict(model, data, threshold):\n",
    "  reconstructions = model.predict(data)\n",
    "  return [not i  for i in tf.math.less(reconstructions, threshold)]\n",
    "\n",
    "def print_stats(predictions, labels):\n",
    "    # Calculate overall accuracy\n",
    "    accuracy = accuracy_score(labels, predictions)\n",
    "    print(\"Overall Accuracy = {:.2f}\".format(accuracy))\n",
    "    # Print the classification report for a detailed view\n",
    "    print(\"\\nClassification Report:\")\n",
    "    print(classification_report(labels, predictions))\n",
    "    \n",
    "    \n",
    "preds = predict(autoencoder, validation_data_reduced, 0.5)\n",
    "\n",
    "print_stats(preds, test_labels)\n",
    "ConfusionMatrixDisplay(confusion_matrix(test_labels, preds)).plot()"
   ]
  }
 ],
 "metadata": {
  "kernelspec": {
   "display_name": "tf-gpu",
   "language": "python",
   "name": "python3"
  },
  "language_info": {
   "codemirror_mode": {
    "name": "ipython",
    "version": 3
   },
   "file_extension": ".py",
   "mimetype": "text/x-python",
   "name": "python",
   "nbconvert_exporter": "python",
   "pygments_lexer": "ipython3",
   "version": "3.9.18"
  }
 },
 "nbformat": 4,
 "nbformat_minor": 5
}
